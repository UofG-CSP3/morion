{
 "cells": [
  {
   "cell_type": "markdown",
   "source": [],
   "metadata": {
    "collapsed": false
   }
  },
  {
   "cell_type": "markdown",
   "source": [
    "##### Generation of sample data for IVs, dies, wafers, fabruns\n",
    "For examples of the generation of Die, Wafer, and IV files, look at the create_test_files.py file in the demonstration folder.\n",
    "If one already has files set up, create a folder (give it whatever name) and store the files in there. Make sure the newly created folder in next to the morion folder."
   ],
   "metadata": {
    "collapsed": false,
    "pycharm": {
     "name": "#%% md\n"
    }
   }
  },
  {
   "cell_type": "markdown",
   "source": [
    "##### Uploading data to database\n",
    "For examples of how uploading works, look at the demonstrate_uploading.py file in the demonstrations folder.\n",
    "For an example of how a computer may read a file, look at the headers folder in the CSP3_PROJECT folder.\n",
    "This with readers.py and standard_readers.py will be able to read a text file so long as it has a header file to instruct it on how to read a regular iv experiment file."
   ],
   "metadata": {
    "collapsed": false,
    "pycharm": {
     "name": "#%% md\n"
    }
   }
  },
  {
   "cell_type": "markdown",
   "source": [
    "##### Downloading data from database\n",
    "For examples of how uploading works, look at the demonstrate_downloading.py file in the demonstrations folder.\n",
    "As with above, we have defined our own system of how entries can be downloaded into their own format.\n",
    "One can see this by observing the writers.py and standard_writers.py files."
   ],
   "metadata": {
    "collapsed": false
   }
  },
  {
   "cell_type": "markdown",
   "source": [
    "##### Linking of IV->Die->Wafer->Fabrun and extracting information on level up / level down\n",
    "To see how the database schema is structured, look at the models.py file defined in CSP3_PROJECT.\n",
    "To see an example of how information extracting works with the linking of each layer on a database schema, observe the demonstrate_linking.py folder.\n",
    "In the case of how we have developed our schema, there are four layers for our database:\n",
    "\n",
    "1. Fabrun\n",
    "2. Wafer\n",
    "3. Die\n",
    "4. IV\n",
    "\n",
    "Each layer has access to its own information and information from the layer above or below itself.\n",
    "\n"
   ],
   "metadata": {
    "collapsed": false
   }
  },
  {
   "cell_type": "markdown",
   "source": [],
   "metadata": {
    "collapsed": false
   }
  }
 ],
 "metadata": {
  "kernelspec": {
   "display_name": "Python 3",
   "language": "python",
   "name": "python3"
  },
  "language_info": {
   "codemirror_mode": {
    "name": "ipython",
    "version": 2
   },
   "file_extension": ".py",
   "mimetype": "text/x-python",
   "name": "python",
   "nbconvert_exporter": "python",
   "pygments_lexer": "ipython2",
   "version": "2.7.6"
  }
 },
 "nbformat": 4,
 "nbformat_minor": 0
}